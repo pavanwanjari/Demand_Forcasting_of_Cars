{
 "cells": [
  {
   "cell_type": "markdown",
   "id": "447bd63f",
   "metadata": {},
   "source": [
    "## Demand Forecasting\n",
    "\n",
    "### Author :- Pavan Wanjari\n",
    "\n",
    "\n",
    "### Problem Statement\n",
    "* ABC is a car rental company based out of Bangalore. It rents cars for both in and out stations at affordable prices. The users can rent different types of cars like Sedans, Hatchbacks, SUVs and MUVs, Minivans and so on.\n",
    "\n",
    "* In recent times, the demand for cars is on the rise. As a result, the company would like to tackle the problem of supply and demand. The ultimate goal of the company is to strike the balance between the supply and demand inorder to meet the user expectations.  \n",
    "\n",
    "* The company has collected the details of each rental. Based on the past data, the company would like to forecast the demand of car rentals on an hourly basis. \n",
    "\n",
    "\n",
    "### Objective\n",
    "The main objective of the problem is to develop the machine learning approach to forecast the demand of car rentals on an hourly basis.\n",
    "\n",
    "<img src=\"Car.jpg\" style=\"width:400px;height:200px\">\n",
    "\n"
   ]
  },
  {
   "cell_type": "markdown",
   "id": "90eb99c1",
   "metadata": {},
   "source": [
    "### Import Libraries"
   ]
  },
  {
   "cell_type": "code",
   "execution_count": 1,
   "id": "9b3454df",
   "metadata": {},
   "outputs": [],
   "source": [
    "import numpy as np \n",
    "import pandas as pd\n",
    "import matplotlib.pyplot as plt\n",
    "%matplotlib inline\n",
    "import seaborn as sns\n",
    "import warnings\n",
    "warnings.filterwarnings(\"ignore\")"
   ]
  },
  {
   "cell_type": "markdown",
   "id": "99794ebd",
   "metadata": {},
   "source": [
    "### Import dataset"
   ]
  },
  {
   "cell_type": "code",
   "execution_count": 2,
   "id": "ecd9bcc7",
   "metadata": {
    "scrolled": true
   },
   "outputs": [],
   "source": [
    "train_df = pd.read_csv(\"train_E1GspfA.csv\")\n",
    "test_df = pd.read_csv(\"test_6QvDdzb.csv\")"
   ]
  },
  {
   "cell_type": "markdown",
   "id": "1df19eff",
   "metadata": {},
   "source": [
    "### Data Exploration"
   ]
  },
  {
   "cell_type": "code",
   "execution_count": 3,
   "id": "8859ac38",
   "metadata": {},
   "outputs": [
    {
     "name": "stdout",
     "output_type": "stream",
     "text": [
      "(18247, 3)\n"
     ]
    },
    {
     "data": {
      "text/html": [
       "<div>\n",
       "<style scoped>\n",
       "    .dataframe tbody tr th:only-of-type {\n",
       "        vertical-align: middle;\n",
       "    }\n",
       "\n",
       "    .dataframe tbody tr th {\n",
       "        vertical-align: top;\n",
       "    }\n",
       "\n",
       "    .dataframe thead th {\n",
       "        text-align: right;\n",
       "    }\n",
       "</style>\n",
       "<table border=\"1\" class=\"dataframe\">\n",
       "  <thead>\n",
       "    <tr style=\"text-align: right;\">\n",
       "      <th></th>\n",
       "      <th>date</th>\n",
       "      <th>hour</th>\n",
       "      <th>demand</th>\n",
       "    </tr>\n",
       "  </thead>\n",
       "  <tbody>\n",
       "    <tr>\n",
       "      <th>0</th>\n",
       "      <td>2018-08-18</td>\n",
       "      <td>9</td>\n",
       "      <td>91</td>\n",
       "    </tr>\n",
       "    <tr>\n",
       "      <th>1</th>\n",
       "      <td>2018-08-18</td>\n",
       "      <td>10</td>\n",
       "      <td>21</td>\n",
       "    </tr>\n",
       "    <tr>\n",
       "      <th>2</th>\n",
       "      <td>2018-08-18</td>\n",
       "      <td>13</td>\n",
       "      <td>23</td>\n",
       "    </tr>\n",
       "    <tr>\n",
       "      <th>3</th>\n",
       "      <td>2018-08-18</td>\n",
       "      <td>14</td>\n",
       "      <td>104</td>\n",
       "    </tr>\n",
       "    <tr>\n",
       "      <th>4</th>\n",
       "      <td>2018-08-18</td>\n",
       "      <td>15</td>\n",
       "      <td>81</td>\n",
       "    </tr>\n",
       "  </tbody>\n",
       "</table>\n",
       "</div>"
      ],
      "text/plain": [
       "         date  hour  demand\n",
       "0  2018-08-18     9      91\n",
       "1  2018-08-18    10      21\n",
       "2  2018-08-18    13      23\n",
       "3  2018-08-18    14     104\n",
       "4  2018-08-18    15      81"
      ]
     },
     "execution_count": 3,
     "metadata": {},
     "output_type": "execute_result"
    }
   ],
   "source": [
    "#train data\n",
    "print(train_df.shape)\n",
    "train_df.head()"
   ]
  },
  {
   "cell_type": "code",
   "execution_count": 4,
   "id": "be3dfc5a",
   "metadata": {},
   "outputs": [
    {
     "name": "stdout",
     "output_type": "stream",
     "text": [
      "(7650, 2)\n"
     ]
    },
    {
     "data": {
      "text/html": [
       "<div>\n",
       "<style scoped>\n",
       "    .dataframe tbody tr th:only-of-type {\n",
       "        vertical-align: middle;\n",
       "    }\n",
       "\n",
       "    .dataframe tbody tr th {\n",
       "        vertical-align: top;\n",
       "    }\n",
       "\n",
       "    .dataframe thead th {\n",
       "        text-align: right;\n",
       "    }\n",
       "</style>\n",
       "<table border=\"1\" class=\"dataframe\">\n",
       "  <thead>\n",
       "    <tr style=\"text-align: right;\">\n",
       "      <th></th>\n",
       "      <th>date</th>\n",
       "      <th>hour</th>\n",
       "    </tr>\n",
       "  </thead>\n",
       "  <tbody>\n",
       "    <tr>\n",
       "      <th>0</th>\n",
       "      <td>2021-03-01</td>\n",
       "      <td>0</td>\n",
       "    </tr>\n",
       "    <tr>\n",
       "      <th>1</th>\n",
       "      <td>2021-03-01</td>\n",
       "      <td>1</td>\n",
       "    </tr>\n",
       "    <tr>\n",
       "      <th>2</th>\n",
       "      <td>2021-03-01</td>\n",
       "      <td>2</td>\n",
       "    </tr>\n",
       "    <tr>\n",
       "      <th>3</th>\n",
       "      <td>2021-03-01</td>\n",
       "      <td>3</td>\n",
       "    </tr>\n",
       "    <tr>\n",
       "      <th>4</th>\n",
       "      <td>2021-03-01</td>\n",
       "      <td>5</td>\n",
       "    </tr>\n",
       "  </tbody>\n",
       "</table>\n",
       "</div>"
      ],
      "text/plain": [
       "         date  hour\n",
       "0  2021-03-01     0\n",
       "1  2021-03-01     1\n",
       "2  2021-03-01     2\n",
       "3  2021-03-01     3\n",
       "4  2021-03-01     5"
      ]
     },
     "execution_count": 4,
     "metadata": {},
     "output_type": "execute_result"
    }
   ],
   "source": [
    "# Test data\n",
    "print(test_df.shape)\n",
    "test_df.head()"
   ]
  },
  {
   "cell_type": "markdown",
   "id": "2a4e2197",
   "metadata": {},
   "source": [
    "* **Convert Date into datetime format.**"
   ]
  },
  {
   "cell_type": "code",
   "execution_count": 5,
   "id": "09673a18",
   "metadata": {},
   "outputs": [],
   "source": [
    "# train data\n",
    "train_df['date'] = pd.to_datetime(train_df['date'])\n",
    "\n",
    "#test data\n",
    "test_df['date'] = pd.to_datetime(test_df['date'])"
   ]
  },
  {
   "cell_type": "code",
   "execution_count": 6,
   "id": "d294444b",
   "metadata": {},
   "outputs": [
    {
     "data": {
      "text/html": [
       "<div>\n",
       "<style scoped>\n",
       "    .dataframe tbody tr th:only-of-type {\n",
       "        vertical-align: middle;\n",
       "    }\n",
       "\n",
       "    .dataframe tbody tr th {\n",
       "        vertical-align: top;\n",
       "    }\n",
       "\n",
       "    .dataframe thead th {\n",
       "        text-align: right;\n",
       "    }\n",
       "</style>\n",
       "<table border=\"1\" class=\"dataframe\">\n",
       "  <thead>\n",
       "    <tr style=\"text-align: right;\">\n",
       "      <th></th>\n",
       "      <th>hour</th>\n",
       "      <th>demand</th>\n",
       "      <th>year</th>\n",
       "      <th>month</th>\n",
       "      <th>day</th>\n",
       "    </tr>\n",
       "  </thead>\n",
       "  <tbody>\n",
       "    <tr>\n",
       "      <th>0</th>\n",
       "      <td>9</td>\n",
       "      <td>91</td>\n",
       "      <td>2018</td>\n",
       "      <td>8</td>\n",
       "      <td>18</td>\n",
       "    </tr>\n",
       "    <tr>\n",
       "      <th>1</th>\n",
       "      <td>10</td>\n",
       "      <td>21</td>\n",
       "      <td>2018</td>\n",
       "      <td>8</td>\n",
       "      <td>18</td>\n",
       "    </tr>\n",
       "    <tr>\n",
       "      <th>2</th>\n",
       "      <td>13</td>\n",
       "      <td>23</td>\n",
       "      <td>2018</td>\n",
       "      <td>8</td>\n",
       "      <td>18</td>\n",
       "    </tr>\n",
       "    <tr>\n",
       "      <th>3</th>\n",
       "      <td>14</td>\n",
       "      <td>104</td>\n",
       "      <td>2018</td>\n",
       "      <td>8</td>\n",
       "      <td>18</td>\n",
       "    </tr>\n",
       "    <tr>\n",
       "      <th>4</th>\n",
       "      <td>15</td>\n",
       "      <td>81</td>\n",
       "      <td>2018</td>\n",
       "      <td>8</td>\n",
       "      <td>18</td>\n",
       "    </tr>\n",
       "  </tbody>\n",
       "</table>\n",
       "</div>"
      ],
      "text/plain": [
       "   hour  demand  year  month  day\n",
       "0     9      91  2018      8   18\n",
       "1    10      21  2018      8   18\n",
       "2    13      23  2018      8   18\n",
       "3    14     104  2018      8   18\n",
       "4    15      81  2018      8   18"
      ]
     },
     "execution_count": 6,
     "metadata": {},
     "output_type": "execute_result"
    }
   ],
   "source": [
    "train_df['year'] = train_df['date'].dt.year\n",
    "train_df['month'] = train_df['date'].dt.month\n",
    "train_df['day'] = train_df['date'].dt.day\n",
    "train_df.drop(\"date\", axis=1, inplace=True)\n",
    "train_df.head()"
   ]
  },
  {
   "cell_type": "code",
   "execution_count": 7,
   "id": "a76d2cd1",
   "metadata": {},
   "outputs": [
    {
     "data": {
      "text/html": [
       "<div>\n",
       "<style scoped>\n",
       "    .dataframe tbody tr th:only-of-type {\n",
       "        vertical-align: middle;\n",
       "    }\n",
       "\n",
       "    .dataframe tbody tr th {\n",
       "        vertical-align: top;\n",
       "    }\n",
       "\n",
       "    .dataframe thead th {\n",
       "        text-align: right;\n",
       "    }\n",
       "</style>\n",
       "<table border=\"1\" class=\"dataframe\">\n",
       "  <thead>\n",
       "    <tr style=\"text-align: right;\">\n",
       "      <th></th>\n",
       "      <th>hour</th>\n",
       "      <th>year</th>\n",
       "      <th>month</th>\n",
       "      <th>day</th>\n",
       "    </tr>\n",
       "  </thead>\n",
       "  <tbody>\n",
       "    <tr>\n",
       "      <th>0</th>\n",
       "      <td>0</td>\n",
       "      <td>2021</td>\n",
       "      <td>3</td>\n",
       "      <td>1</td>\n",
       "    </tr>\n",
       "    <tr>\n",
       "      <th>1</th>\n",
       "      <td>1</td>\n",
       "      <td>2021</td>\n",
       "      <td>3</td>\n",
       "      <td>1</td>\n",
       "    </tr>\n",
       "    <tr>\n",
       "      <th>2</th>\n",
       "      <td>2</td>\n",
       "      <td>2021</td>\n",
       "      <td>3</td>\n",
       "      <td>1</td>\n",
       "    </tr>\n",
       "    <tr>\n",
       "      <th>3</th>\n",
       "      <td>3</td>\n",
       "      <td>2021</td>\n",
       "      <td>3</td>\n",
       "      <td>1</td>\n",
       "    </tr>\n",
       "    <tr>\n",
       "      <th>4</th>\n",
       "      <td>5</td>\n",
       "      <td>2021</td>\n",
       "      <td>3</td>\n",
       "      <td>1</td>\n",
       "    </tr>\n",
       "  </tbody>\n",
       "</table>\n",
       "</div>"
      ],
      "text/plain": [
       "   hour  year  month  day\n",
       "0     0  2021      3    1\n",
       "1     1  2021      3    1\n",
       "2     2  2021      3    1\n",
       "3     3  2021      3    1\n",
       "4     5  2021      3    1"
      ]
     },
     "execution_count": 7,
     "metadata": {},
     "output_type": "execute_result"
    }
   ],
   "source": [
    "test_df['year'] = test_df['date'].dt.year\n",
    "test_df['month'] = test_df['date'].dt.month\n",
    "test_df['day'] = test_df['date'].dt.day\n",
    "test_df.drop(\"date\", axis=1, inplace=True)\n",
    "test_df.head()"
   ]
  },
  {
   "cell_type": "code",
   "execution_count": 8,
   "id": "827142fd",
   "metadata": {},
   "outputs": [
    {
     "data": {
      "text/plain": [
       "2019    7286\n",
       "2020    7145\n",
       "2018    2511\n",
       "2021    1305\n",
       "Name: year, dtype: int64"
      ]
     },
     "execution_count": 8,
     "metadata": {},
     "output_type": "execute_result"
    }
   ],
   "source": [
    "train_df.year.value_counts()"
   ]
  },
  {
   "cell_type": "code",
   "execution_count": 9,
   "id": "0425e7d5",
   "metadata": {},
   "outputs": [
    {
     "data": {
      "text/html": [
       "<div>\n",
       "<style scoped>\n",
       "    .dataframe tbody tr th:only-of-type {\n",
       "        vertical-align: middle;\n",
       "    }\n",
       "\n",
       "    .dataframe tbody tr th {\n",
       "        vertical-align: top;\n",
       "    }\n",
       "\n",
       "    .dataframe thead th {\n",
       "        text-align: right;\n",
       "    }\n",
       "</style>\n",
       "<table border=\"1\" class=\"dataframe\">\n",
       "  <thead>\n",
       "    <tr style=\"text-align: right;\">\n",
       "      <th></th>\n",
       "      <th>hour</th>\n",
       "      <th>demand</th>\n",
       "      <th>year</th>\n",
       "      <th>month</th>\n",
       "      <th>day</th>\n",
       "    </tr>\n",
       "  </thead>\n",
       "  <tbody>\n",
       "    <tr>\n",
       "      <th>count</th>\n",
       "      <td>18247.000000</td>\n",
       "      <td>18247.000000</td>\n",
       "      <td>18247.000000</td>\n",
       "      <td>18247.000000</td>\n",
       "      <td>18247.000000</td>\n",
       "    </tr>\n",
       "    <tr>\n",
       "      <th>mean</th>\n",
       "      <td>12.614731</td>\n",
       "      <td>73.991451</td>\n",
       "      <td>2019.396997</td>\n",
       "      <td>6.470324</td>\n",
       "      <td>15.782430</td>\n",
       "    </tr>\n",
       "    <tr>\n",
       "      <th>std</th>\n",
       "      <td>6.544963</td>\n",
       "      <td>41.678988</td>\n",
       "      <td>0.810979</td>\n",
       "      <td>3.618189</td>\n",
       "      <td>8.772904</td>\n",
       "    </tr>\n",
       "    <tr>\n",
       "      <th>min</th>\n",
       "      <td>0.000000</td>\n",
       "      <td>1.000000</td>\n",
       "      <td>2018.000000</td>\n",
       "      <td>1.000000</td>\n",
       "      <td>1.000000</td>\n",
       "    </tr>\n",
       "    <tr>\n",
       "      <th>25%</th>\n",
       "      <td>8.000000</td>\n",
       "      <td>43.000000</td>\n",
       "      <td>2019.000000</td>\n",
       "      <td>3.000000</td>\n",
       "      <td>8.000000</td>\n",
       "    </tr>\n",
       "    <tr>\n",
       "      <th>50%</th>\n",
       "      <td>13.000000</td>\n",
       "      <td>71.000000</td>\n",
       "      <td>2019.000000</td>\n",
       "      <td>7.000000</td>\n",
       "      <td>16.000000</td>\n",
       "    </tr>\n",
       "    <tr>\n",
       "      <th>75%</th>\n",
       "      <td>18.000000</td>\n",
       "      <td>98.000000</td>\n",
       "      <td>2020.000000</td>\n",
       "      <td>10.000000</td>\n",
       "      <td>23.000000</td>\n",
       "    </tr>\n",
       "    <tr>\n",
       "      <th>max</th>\n",
       "      <td>23.000000</td>\n",
       "      <td>379.000000</td>\n",
       "      <td>2021.000000</td>\n",
       "      <td>12.000000</td>\n",
       "      <td>31.000000</td>\n",
       "    </tr>\n",
       "  </tbody>\n",
       "</table>\n",
       "</div>"
      ],
      "text/plain": [
       "               hour        demand          year         month           day\n",
       "count  18247.000000  18247.000000  18247.000000  18247.000000  18247.000000\n",
       "mean      12.614731     73.991451   2019.396997      6.470324     15.782430\n",
       "std        6.544963     41.678988      0.810979      3.618189      8.772904\n",
       "min        0.000000      1.000000   2018.000000      1.000000      1.000000\n",
       "25%        8.000000     43.000000   2019.000000      3.000000      8.000000\n",
       "50%       13.000000     71.000000   2019.000000      7.000000     16.000000\n",
       "75%       18.000000     98.000000   2020.000000     10.000000     23.000000\n",
       "max       23.000000    379.000000   2021.000000     12.000000     31.000000"
      ]
     },
     "execution_count": 9,
     "metadata": {},
     "output_type": "execute_result"
    }
   ],
   "source": [
    "# check statistical summary of train data\n",
    "train_df.describe()"
   ]
  },
  {
   "cell_type": "code",
   "execution_count": 10,
   "id": "1d53a017",
   "metadata": {},
   "outputs": [
    {
     "data": {
      "text/plain": [
       "hour      0\n",
       "demand    0\n",
       "year      0\n",
       "month     0\n",
       "day       0\n",
       "dtype: int64"
      ]
     },
     "execution_count": 10,
     "metadata": {},
     "output_type": "execute_result"
    }
   ],
   "source": [
    "# check is there any missing value present in dataset or not\n",
    "train_df.isnull().sum()"
   ]
  },
  {
   "cell_type": "markdown",
   "id": "17f5f07e",
   "metadata": {},
   "source": [
    "No missing values present in train dataset"
   ]
  },
  {
   "cell_type": "markdown",
   "id": "52851dea",
   "metadata": {},
   "source": [
    "### Exploratory Data Analysis (EDA)\n",
    "#### Data Visualization"
   ]
  },
  {
   "cell_type": "code",
   "execution_count": 11,
   "id": "140ee0bd",
   "metadata": {},
   "outputs": [
    {
     "data": {
      "image/png": "[encoded data removed]",
      "text/plain": [
       "<Figure size 720x360 with 2 Axes>"
      ]
     },
     "metadata": {
      "needs_background": "light"
     },
     "output_type": "display_data"
    }
   ],
   "source": [
    "# Check correlation of features by the use of heatmap\n",
    "plt.figure(figsize=(10, 5))\n",
    "sns.heatmap(train_df.corr(), annot = True, vmin=-1, vmax=1, center= 0, cmap= 'coolwarm', linewidths=2, linecolor='black')\n",
    "plt.show()"
   ]
  },
  {
   "cell_type": "code",
   "execution_count": 12,
   "id": "d0780157",
   "metadata": {},
   "outputs": [
    {
     "data": {
      "image/png": "[encoded data removed]",
      "text/plain": [
       "<Figure size 720x360 with 1 Axes>"
      ]
     },
     "metadata": {
      "needs_background": "light"
     },
     "output_type": "display_data"
    }
   ],
   "source": [
    "# Distribution of demand\n",
    "plt.figure(figsize=(10, 5))\n",
    "sns.distplot((train_df['demand']), color= \"g\")\n",
    "plt.show()"
   ]
  },
  {
   "cell_type": "markdown",
   "id": "809aae84",
   "metadata": {},
   "source": [
    "* **Countplot demand Year wise**"
   ]
  },
  {
   "cell_type": "code",
   "execution_count": 13,
   "id": "862649f5",
   "metadata": {},
   "outputs": [
    {
     "data": {
      "image/png": "[encoded data removed]",
      "text/plain": [
       "<Figure size 432x288 with 1 Axes>"
      ]
     },
     "metadata": {
      "needs_background": "light"
     },
     "output_type": "display_data"
    },
    {
     "data": {
      "text/plain": [
       "2019    7286\n",
       "2020    7145\n",
       "2018    2511\n",
       "2021    1305\n",
       "Name: year, dtype: int64"
      ]
     },
     "execution_count": 13,
     "metadata": {},
     "output_type": "execute_result"
    }
   ],
   "source": [
    "sns.countplot(train_df['year'], palette= \"rainbow\")\n",
    "plt.show()\n",
    "train_df.year.value_counts()"
   ]
  },
  {
   "cell_type": "code",
   "execution_count": 14,
   "id": "0a4d7cbe",
   "metadata": {},
   "outputs": [
    {
     "data": {
      "image/png": "[encoded data removed]",
      "text/plain": [
       "<Figure size 1080x360 with 2 Axes>"
      ]
     },
     "metadata": {
      "needs_background": "light"
     },
     "output_type": "display_data"
    }
   ],
   "source": [
    "plt.figure(figsize=(15,5))\n",
    "plt.subplot(1,2,1)\n",
    "sns.barplot(x= train_df['year'], y=train_df['demand'], palette=\"rainbow\")\n",
    "plt.subplot(1,2,2)\n",
    "sns.lineplot(x= train_df[\"year\"], y= train_df[\"demand\"], data= train_df, color= \"g\")\n",
    "\n",
    "plt.show()"
   ]
  },
  {
   "cell_type": "markdown",
   "id": "1ab4e537",
   "metadata": {},
   "source": [
    "Above Plot Show Demand of car is increasing year wise."
   ]
  },
  {
   "cell_type": "markdown",
   "id": "6982e792",
   "metadata": {},
   "source": [
    "* **Countplot demand Month wise**"
   ]
  },
  {
   "cell_type": "code",
   "execution_count": 15,
   "id": "d4bdba72",
   "metadata": {},
   "outputs": [
    {
     "data": {
      "image/png": "[encoded data removed]",
      "text/plain": [
       "<Figure size 432x288 with 1 Axes>"
      ]
     },
     "metadata": {
      "needs_background": "light"
     },
     "output_type": "display_data"
    },
    {
     "data": {
      "text/plain": [
       "1     1963\n",
       "11    1837\n",
       "2     1826\n",
       "10    1798\n",
       "9     1603\n",
       "8     1406\n",
       "12    1394\n",
       "3     1346\n",
       "5     1321\n",
       "6     1281\n",
       "4     1258\n",
       "7     1214\n",
       "Name: month, dtype: int64"
      ]
     },
     "execution_count": 15,
     "metadata": {},
     "output_type": "execute_result"
    }
   ],
   "source": [
    "sns.countplot(train_df['month'])\n",
    "plt.show()\n",
    "train_df.month.value_counts()"
   ]
  },
  {
   "cell_type": "markdown",
   "id": "dd207dc2",
   "metadata": {},
   "source": [
    "Here we can see In **Jan, Feb and Nov.** has more demand of Cars."
   ]
  },
  {
   "cell_type": "code",
   "execution_count": 16,
   "id": "a50a7a0d",
   "metadata": {
    "scrolled": true
   },
   "outputs": [
    {
     "data": {
      "image/png": "[encoded data removed]",
      "text/plain": [
       "<Figure size 1080x360 with 2 Axes>"
      ]
     },
     "metadata": {
      "needs_background": "light"
     },
     "output_type": "display_data"
    }
   ],
   "source": [
    "plt.figure(figsize=(15,5))\n",
    "plt.subplot(1,2,1)\n",
    "sns.barplot(x= train_df['month'], y=train_df['demand'], palette=\"rainbow\")\n",
    "plt.subplot(1,2,2)\n",
    "sns.lineplot(x= train_df[\"month\"], y= train_df[\"demand\"], data= train_df, color= \"g\")\n",
    "\n",
    "plt.show()"
   ]
  },
  {
   "cell_type": "markdown",
   "id": "abd306d6",
   "metadata": {},
   "source": [
    "* **Demand on day wise**"
   ]
  },
  {
   "cell_type": "code",
   "execution_count": 17,
   "id": "438f2388",
   "metadata": {},
   "outputs": [
    {
     "data": {
      "image/png": "[encoded data removed]",
      "text/plain": [
       "<Figure size 1080x360 with 2 Axes>"
      ]
     },
     "metadata": {
      "needs_background": "light"
     },
     "output_type": "display_data"
    }
   ],
   "source": [
    "plt.figure(figsize=(15,5))\n",
    "plt.subplot(1,2,1)\n",
    "sns.barplot(x= train_df['day'], y=train_df['demand'], palette=\"rainbow\")\n",
    "plt.subplot(1,2,2)\n",
    "sns.lineplot(x= train_df[\"day\"], y= train_df[\"demand\"], data= train_df, color= \"g\")\n",
    "\n",
    "plt.show()"
   ]
  },
  {
   "cell_type": "markdown",
   "id": "c200f4e0",
   "metadata": {},
   "source": [
    "* **Demand per hours**"
   ]
  },
  {
   "cell_type": "code",
   "execution_count": 18,
   "id": "7fe3a417",
   "metadata": {},
   "outputs": [
    {
     "data": {
      "image/png": "[encoded data removed]",
      "text/plain": [
       "<Figure size 1080x360 with 2 Axes>"
      ]
     },
     "metadata": {
      "needs_background": "light"
     },
     "output_type": "display_data"
    }
   ],
   "source": [
    "plt.figure(figsize=(15,5))\n",
    "plt.subplot(1,2,1)\n",
    "sns.barplot(x= train_df['hour'], y=train_df['demand'], palette=\"rainbow\")\n",
    "plt.subplot(1,2,2)\n",
    "sns.lineplot(x= train_df[\"hour\"], y= train_df[\"demand\"], data= train_df, color= \"g\")\n",
    "\n",
    "plt.show()"
   ]
  },
  {
   "cell_type": "markdown",
   "id": "31890e30",
   "metadata": {},
   "source": [
    "* Above plots of `months`, `day` and `hour`. We see that near about Cars demand in the range of **80-90**.\n",
    "* Demand of Cars has more in time 11:00 - 17:00. They need more cars in this time.  "
   ]
  },
  {
   "cell_type": "markdown",
   "id": "ab05e757",
   "metadata": {},
   "source": [
    "### Data Preprocessing\n",
    "#### Outlier Removal "
   ]
  },
  {
   "cell_type": "code",
   "execution_count": 19,
   "id": "d2f4d0b6",
   "metadata": {},
   "outputs": [
    {
     "data": {
      "image/png": "[encoded data removed]",
      "text/plain": [
       "<Figure size 432x288 with 1 Axes>"
      ]
     },
     "metadata": {
      "needs_background": "light"
     },
     "output_type": "display_data"
    }
   ],
   "source": [
    "sns.distplot(train_df[\"demand\"])\n",
    "plt.show()"
   ]
  },
  {
   "cell_type": "code",
   "execution_count": 20,
   "id": "8979e42b",
   "metadata": {},
   "outputs": [
    {
     "data": {
      "image/png": "[encoded data removed]",
      "text/plain": [
       "<Figure size 432x288 with 1 Axes>"
      ]
     },
     "metadata": {
      "needs_background": "light"
     },
     "output_type": "display_data"
    }
   ],
   "source": [
    "sns.boxplot(train_df[\"demand\"])\n",
    "plt.show()"
   ]
  },
  {
   "cell_type": "markdown",
   "id": "c27a09c1",
   "metadata": {},
   "source": [
    "Here we can see some outliers are present in `demand`."
   ]
  },
  {
   "cell_type": "code",
   "execution_count": 21,
   "id": "ff5805c1",
   "metadata": {},
   "outputs": [
    {
     "name": "stdout",
     "output_type": "stream",
     "text": [
      "180.5\n",
      "-39.5\n"
     ]
    }
   ],
   "source": [
    "# Finding the IQR\n",
    "Q1 = train_df[\"demand\"].quantile(0.25)\n",
    "Q3 = train_df[\"demand\"].quantile(0.75)\n",
    "IQR = Q3-Q1\n",
    "\n",
    "#Finding upper and lower limit\n",
    "\n",
    "upper_limit = Q3 + 1.5 * IQR\n",
    "lower_limit = Q1 - 1.5 * IQR\n",
    "print(upper_limit)\n",
    "print(lower_limit)"
   ]
  },
  {
   "cell_type": "code",
   "execution_count": 22,
   "id": "c41ecb75",
   "metadata": {},
   "outputs": [
    {
     "data": {
      "text/html": [
       "<div>\n",
       "<style scoped>\n",
       "    .dataframe tbody tr th:only-of-type {\n",
       "        vertical-align: middle;\n",
       "    }\n",
       "\n",
       "    .dataframe tbody tr th {\n",
       "        vertical-align: top;\n",
       "    }\n",
       "\n",
       "    .dataframe thead th {\n",
       "        text-align: right;\n",
       "    }\n",
       "</style>\n",
       "<table border=\"1\" class=\"dataframe\">\n",
       "  <thead>\n",
       "    <tr style=\"text-align: right;\">\n",
       "      <th></th>\n",
       "      <th>hour</th>\n",
       "      <th>demand</th>\n",
       "      <th>year</th>\n",
       "      <th>month</th>\n",
       "      <th>day</th>\n",
       "    </tr>\n",
       "  </thead>\n",
       "  <tbody>\n",
       "  </tbody>\n",
       "</table>\n",
       "</div>"
      ],
      "text/plain": [
       "Empty DataFrame\n",
       "Columns: [hour, demand, year, month, day]\n",
       "Index: []"
      ]
     },
     "execution_count": 22,
     "metadata": {},
     "output_type": "execute_result"
    }
   ],
   "source": [
    "train_df[train_df[\"demand\"]> upper_limit]\n",
    "train_df[train_df[\"demand\"]< lower_limit]"
   ]
  },
  {
   "cell_type": "code",
   "execution_count": 23,
   "id": "30ee2c83",
   "metadata": {},
   "outputs": [
    {
     "name": "stdout",
     "output_type": "stream",
     "text": [
      "(17895, 5)\n"
     ]
    },
    {
     "data": {
      "text/html": [
       "<div>\n",
       "<style scoped>\n",
       "    .dataframe tbody tr th:only-of-type {\n",
       "        vertical-align: middle;\n",
       "    }\n",
       "\n",
       "    .dataframe tbody tr th {\n",
       "        vertical-align: top;\n",
       "    }\n",
       "\n",
       "    .dataframe thead th {\n",
       "        text-align: right;\n",
       "    }\n",
       "</style>\n",
       "<table border=\"1\" class=\"dataframe\">\n",
       "  <thead>\n",
       "    <tr style=\"text-align: right;\">\n",
       "      <th></th>\n",
       "      <th>hour</th>\n",
       "      <th>demand</th>\n",
       "      <th>year</th>\n",
       "      <th>month</th>\n",
       "      <th>day</th>\n",
       "    </tr>\n",
       "  </thead>\n",
       "  <tbody>\n",
       "    <tr>\n",
       "      <th>0</th>\n",
       "      <td>9</td>\n",
       "      <td>91</td>\n",
       "      <td>2018</td>\n",
       "      <td>8</td>\n",
       "      <td>18</td>\n",
       "    </tr>\n",
       "    <tr>\n",
       "      <th>1</th>\n",
       "      <td>10</td>\n",
       "      <td>21</td>\n",
       "      <td>2018</td>\n",
       "      <td>8</td>\n",
       "      <td>18</td>\n",
       "    </tr>\n",
       "    <tr>\n",
       "      <th>2</th>\n",
       "      <td>13</td>\n",
       "      <td>23</td>\n",
       "      <td>2018</td>\n",
       "      <td>8</td>\n",
       "      <td>18</td>\n",
       "    </tr>\n",
       "    <tr>\n",
       "      <th>3</th>\n",
       "      <td>14</td>\n",
       "      <td>104</td>\n",
       "      <td>2018</td>\n",
       "      <td>8</td>\n",
       "      <td>18</td>\n",
       "    </tr>\n",
       "    <tr>\n",
       "      <th>4</th>\n",
       "      <td>15</td>\n",
       "      <td>81</td>\n",
       "      <td>2018</td>\n",
       "      <td>8</td>\n",
       "      <td>18</td>\n",
       "    </tr>\n",
       "  </tbody>\n",
       "</table>\n",
       "</div>"
      ],
      "text/plain": [
       "   hour  demand  year  month  day\n",
       "0     9      91  2018      8   18\n",
       "1    10      21  2018      8   18\n",
       "2    13      23  2018      8   18\n",
       "3    14     104  2018      8   18\n",
       "4    15      81  2018      8   18"
      ]
     },
     "execution_count": 23,
     "metadata": {},
     "output_type": "execute_result"
    }
   ],
   "source": [
    "#removing outliers\n",
    "new_df = train_df[train_df[\"demand\"] < upper_limit]\n",
    "print(new_df.shape)\n",
    "new_df.head()"
   ]
  },
  {
   "cell_type": "code",
   "execution_count": 24,
   "id": "bb3292df",
   "metadata": {},
   "outputs": [
    {
     "data": {
      "image/png": "[encoded data removed]",
      "text/plain": [
       "<Figure size 1440x720 with 4 Axes>"
      ]
     },
     "metadata": {
      "needs_background": "light"
     },
     "output_type": "display_data"
    }
   ],
   "source": [
    "# Compare the plots after removing outliers\n",
    "plt.figure(figsize=(20,10))\n",
    "plt.subplot(2,2,1)\n",
    "sns.distplot(train_df[\"demand\"])\n",
    "plt.subplot(2,2,2)\n",
    "sns.boxplot(train_df[\"demand\"])\n",
    "plt.subplot(2,2,3)\n",
    "sns.distplot(new_df['demand'])\n",
    "plt.subplot(2,2,4)\n",
    "sns.boxplot(new_df['demand'])\n",
    "plt.show()"
   ]
  },
  {
   "cell_type": "code",
   "execution_count": 25,
   "id": "028efdb4",
   "metadata": {},
   "outputs": [],
   "source": [
    "#Cap Our outliers and make limits\n",
    "new_df_cap = train_df.copy()\n",
    "new_df_cap['demand'] = np.where(\n",
    "    new_df_cap['demand'] > upper_limit,\n",
    "    upper_limit,\n",
    "    np.where(\n",
    "        new_df_cap['demand'] < lower_limit,\n",
    "        lower_limit,\n",
    "        new_df_cap['demand']\n",
    "    )\n",
    ")"
   ]
  },
  {
   "cell_type": "code",
   "execution_count": 26,
   "id": "642036c9",
   "metadata": {},
   "outputs": [
    {
     "data": {
      "image/png": "[encoded data removed]",
      "text/plain": [
       "<Figure size 1440x720 with 4 Axes>"
      ]
     },
     "metadata": {
      "needs_background": "light"
     },
     "output_type": "display_data"
    }
   ],
   "source": [
    "#Compare the plots after capping\n",
    "\n",
    "plt.figure(figsize=(20,10))\n",
    "plt.subplot(2,2,1)\n",
    "sns.distplot(train_df['demand'])\n",
    "plt.subplot(2,2,2)\n",
    "sns.boxplot(train_df['demand'])\n",
    "plt.subplot(2,2,3)\n",
    "sns.distplot(new_df_cap['demand'])\n",
    "plt.subplot(2,2,4)\n",
    "sns.boxplot(new_df_cap['demand'])\n",
    "plt.show()"
   ]
  },
  {
   "cell_type": "code",
   "execution_count": 27,
   "id": "5304a725",
   "metadata": {},
   "outputs": [
    {
     "data": {
      "text/html": [
       "<div>\n",
       "<style scoped>\n",
       "    .dataframe tbody tr th:only-of-type {\n",
       "        vertical-align: middle;\n",
       "    }\n",
       "\n",
       "    .dataframe tbody tr th {\n",
       "        vertical-align: top;\n",
       "    }\n",
       "\n",
       "    .dataframe thead th {\n",
       "        text-align: right;\n",
       "    }\n",
       "</style>\n",
       "<table border=\"1\" class=\"dataframe\">\n",
       "  <thead>\n",
       "    <tr style=\"text-align: right;\">\n",
       "      <th></th>\n",
       "      <th>hour</th>\n",
       "      <th>demand</th>\n",
       "      <th>year</th>\n",
       "      <th>month</th>\n",
       "      <th>day</th>\n",
       "    </tr>\n",
       "  </thead>\n",
       "  <tbody>\n",
       "    <tr>\n",
       "      <th>0</th>\n",
       "      <td>9</td>\n",
       "      <td>91.0</td>\n",
       "      <td>2018</td>\n",
       "      <td>8</td>\n",
       "      <td>18</td>\n",
       "    </tr>\n",
       "    <tr>\n",
       "      <th>1</th>\n",
       "      <td>10</td>\n",
       "      <td>21.0</td>\n",
       "      <td>2018</td>\n",
       "      <td>8</td>\n",
       "      <td>18</td>\n",
       "    </tr>\n",
       "    <tr>\n",
       "      <th>2</th>\n",
       "      <td>13</td>\n",
       "      <td>23.0</td>\n",
       "      <td>2018</td>\n",
       "      <td>8</td>\n",
       "      <td>18</td>\n",
       "    </tr>\n",
       "    <tr>\n",
       "      <th>3</th>\n",
       "      <td>14</td>\n",
       "      <td>104.0</td>\n",
       "      <td>2018</td>\n",
       "      <td>8</td>\n",
       "      <td>18</td>\n",
       "    </tr>\n",
       "    <tr>\n",
       "      <th>4</th>\n",
       "      <td>15</td>\n",
       "      <td>81.0</td>\n",
       "      <td>2018</td>\n",
       "      <td>8</td>\n",
       "      <td>18</td>\n",
       "    </tr>\n",
       "  </tbody>\n",
       "</table>\n",
       "</div>"
      ],
      "text/plain": [
       "   hour  demand  year  month  day\n",
       "0     9    91.0  2018      8   18\n",
       "1    10    21.0  2018      8   18\n",
       "2    13    23.0  2018      8   18\n",
       "3    14   104.0  2018      8   18\n",
       "4    15    81.0  2018      8   18"
      ]
     },
     "execution_count": 27,
     "metadata": {},
     "output_type": "execute_result"
    }
   ],
   "source": [
    "new_df_cap.head()"
   ]
  },
  {
   "cell_type": "code",
   "execution_count": 28,
   "id": "1602813c",
   "metadata": {},
   "outputs": [],
   "source": [
    "features = [\"hour\", \"year\", \"month\", \"day\"]"
   ]
  },
  {
   "cell_type": "code",
   "execution_count": 29,
   "id": "54296574",
   "metadata": {},
   "outputs": [],
   "source": [
    "target= [\"demand\"]"
   ]
  },
  {
   "cell_type": "code",
   "execution_count": 30,
   "id": "931cca39",
   "metadata": {},
   "outputs": [],
   "source": [
    "X= new_df_cap[features]"
   ]
  },
  {
   "cell_type": "code",
   "execution_count": 31,
   "id": "5294f6da",
   "metadata": {},
   "outputs": [],
   "source": [
    "y= new_df_cap[target]"
   ]
  },
  {
   "cell_type": "markdown",
   "id": "d3c7fbb9",
   "metadata": {},
   "source": [
    "### Model Building"
   ]
  },
  {
   "cell_type": "markdown",
   "id": "667e7c4f",
   "metadata": {},
   "source": [
    "**Building different ML models for evaluating purpose to find out the best performing one.**"
   ]
  },
  {
   "cell_type": "code",
   "execution_count": 32,
   "id": "3908296c",
   "metadata": {},
   "outputs": [],
   "source": [
    "from sklearn.model_selection import train_test_split\n",
    "from sklearn.linear_model import LinearRegression\n",
    "from sklearn.tree import DecisionTreeRegressor\n",
    "from sklearn.ensemble import RandomForestRegressor\n",
    "from sklearn.svm import SVR\n",
    "from sklearn.ensemble import AdaBoostRegressor\n",
    "from sklearn.ensemble import GradientBoostingRegressor\n",
    "from xgboost import XGBRegressor\n",
    "from sklearn.metrics import mean_absolute_error,mean_squared_error,r2_score\n",
    "from sklearn.model_selection import RandomizedSearchCV"
   ]
  },
  {
   "cell_type": "markdown",
   "id": "d6ceb6ec",
   "metadata": {},
   "source": [
    "**Finding best Random state for building Regression model**"
   ]
  },
  {
   "cell_type": "code",
   "execution_count": 33,
   "id": "69d8535e",
   "metadata": {},
   "outputs": [
    {
     "name": "stdout",
     "output_type": "stream",
     "text": [
      "Best r2 score is 0.04393646701778364 on Random State 357\n"
     ]
    }
   ],
   "source": [
    "maxAccu=0\n",
    "maxRS=0\n",
    "\n",
    "for i in range(1, 500):\n",
    "    X_train, X_test, y_train, y_test = train_test_split(X, y, test_size=0.3, random_state=i)\n",
    "    lr=LinearRegression()\n",
    "    lr.fit(X_train, y_train)\n",
    "    pred = lr.predict(X_test)\n",
    "    r2 = r2_score(y_test, pred)\n",
    "    \n",
    "    if r2>maxAccu:\n",
    "        maxAccu=r2\n",
    "        maxRS=i\n",
    "\n",
    "print(\"Best r2 score is\", maxAccu,\"on Random State\", maxRS)"
   ]
  },
  {
   "cell_type": "code",
   "execution_count": 34,
   "id": "3a558b34",
   "metadata": {},
   "outputs": [],
   "source": [
    "# Splitting data into training and test set\n",
    "X_train, X_test, y_train, y_test = train_test_split(X,y,test_size=0.30, random_state= 357)"
   ]
  },
  {
   "cell_type": "code",
   "execution_count": 35,
   "id": "067115bc",
   "metadata": {},
   "outputs": [],
   "source": [
    "regressors = {\n",
    "    'Linear Regression' : LinearRegression(),\n",
    "    'Decision Tree' : DecisionTreeRegressor(),\n",
    "    'Random Forest' : RandomForestRegressor(),\n",
    "    'Support Vector Machines' : SVR(gamma=1),\n",
    "    'Ada Boost Regressor' : AdaBoostRegressor(),\n",
    "    'Gradient Boost Regressor' : GradientBoostingRegressor(),\n",
    "    'XG Boost Regressor' : XGBRegressor()\n",
    "}\n",
    "\n",
    "results=pd.DataFrame(columns=['MAE','MSE', 'RMSE', 'R2-score'])\n",
    "\n",
    "for method,func in regressors.items():\n",
    "    model = func.fit(X_train,y_train)\n",
    "    pred = model.predict(X_test)\n",
    "    results.loc[method]= [np.round(mean_absolute_error(y_test,pred),3),\n",
    "                          np.round(mean_squared_error(y_test,pred),3),\n",
    "                          np.sqrt(mean_squared_error(y_test,pred)),\n",
    "                          np.round(r2_score(y_test,pred),3)\n",
    "                          \n",
    "                         ]"
   ]
  },
  {
   "cell_type": "markdown",
   "id": "b9df7e82",
   "metadata": {},
   "source": [
    "### Evaluating different models using Evaluation metrics"
   ]
  },
  {
   "cell_type": "code",
   "execution_count": 36,
   "id": "449f7228",
   "metadata": {},
   "outputs": [
    {
     "data": {
      "text/html": [
       "<div>\n",
       "<style scoped>\n",
       "    .dataframe tbody tr th:only-of-type {\n",
       "        vertical-align: middle;\n",
       "    }\n",
       "\n",
       "    .dataframe tbody tr th {\n",
       "        vertical-align: top;\n",
       "    }\n",
       "\n",
       "    .dataframe thead th {\n",
       "        text-align: right;\n",
       "    }\n",
       "</style>\n",
       "<table border=\"1\" class=\"dataframe\">\n",
       "  <thead>\n",
       "    <tr style=\"text-align: right;\">\n",
       "      <th></th>\n",
       "      <th>MAE</th>\n",
       "      <th>MSE</th>\n",
       "      <th>RMSE</th>\n",
       "      <th>R2-score</th>\n",
       "    </tr>\n",
       "  </thead>\n",
       "  <tbody>\n",
       "    <tr>\n",
       "      <th>Linear Regression</th>\n",
       "      <td>30.789</td>\n",
       "      <td>1445.269</td>\n",
       "      <td>38.016692</td>\n",
       "      <td>0.044</td>\n",
       "    </tr>\n",
       "    <tr>\n",
       "      <th>Decision Tree</th>\n",
       "      <td>36.208</td>\n",
       "      <td>2018.233</td>\n",
       "      <td>44.924745</td>\n",
       "      <td>-0.335</td>\n",
       "    </tr>\n",
       "    <tr>\n",
       "      <th>Random Forest</th>\n",
       "      <td>27.966</td>\n",
       "      <td>1131.399</td>\n",
       "      <td>33.636278</td>\n",
       "      <td>0.252</td>\n",
       "    </tr>\n",
       "    <tr>\n",
       "      <th>Support Vector Machines</th>\n",
       "      <td>31.056</td>\n",
       "      <td>1475.749</td>\n",
       "      <td>38.415473</td>\n",
       "      <td>0.024</td>\n",
       "    </tr>\n",
       "    <tr>\n",
       "      <th>Ada Boost Regressor</th>\n",
       "      <td>29.099</td>\n",
       "      <td>1242.221</td>\n",
       "      <td>35.245150</td>\n",
       "      <td>0.178</td>\n",
       "    </tr>\n",
       "    <tr>\n",
       "      <th>Gradient Boost Regressor</th>\n",
       "      <td>28.198</td>\n",
       "      <td>1145.010</td>\n",
       "      <td>33.837996</td>\n",
       "      <td>0.243</td>\n",
       "    </tr>\n",
       "    <tr>\n",
       "      <th>XG Boost Regressor</th>\n",
       "      <td>27.725</td>\n",
       "      <td>1101.817</td>\n",
       "      <td>33.193630</td>\n",
       "      <td>0.271</td>\n",
       "    </tr>\n",
       "  </tbody>\n",
       "</table>\n",
       "</div>"
      ],
      "text/plain": [
       "                             MAE       MSE       RMSE  R2-score\n",
       "Linear Regression         30.789  1445.269  38.016692     0.044\n",
       "Decision Tree             36.208  2018.233  44.924745    -0.335\n",
       "Random Forest             27.966  1131.399  33.636278     0.252\n",
       "Support Vector Machines   31.056  1475.749  38.415473     0.024\n",
       "Ada Boost Regressor       29.099  1242.221  35.245150     0.178\n",
       "Gradient Boost Regressor  28.198  1145.010  33.837996     0.243\n",
       "XG Boost Regressor        27.725  1101.817  33.193630     0.271"
      ]
     },
     "execution_count": 36,
     "metadata": {},
     "output_type": "execute_result"
    }
   ],
   "source": [
    "results"
   ]
  },
  {
   "cell_type": "code",
   "execution_count": 37,
   "id": "4069311c",
   "metadata": {},
   "outputs": [
    {
     "data": {
      "text/html": [
       "<style  type=\"text/css\" >\n",
       "#T_eee84_row0_col3{\n",
       "            background-color:  #7f2704;\n",
       "            color:  #f1f1f1;\n",
       "        }#T_eee84_row1_col3{\n",
       "            background-color:  #892b04;\n",
       "            color:  #f1f1f1;\n",
       "        }#T_eee84_row2_col3{\n",
       "            background-color:  #8c2c04;\n",
       "            color:  #f1f1f1;\n",
       "        }#T_eee84_row3_col3{\n",
       "            background-color:  #b13a03;\n",
       "            color:  #f1f1f1;\n",
       "        }#T_eee84_row4_col3{\n",
       "            background-color:  #f16813;\n",
       "            color:  #000000;\n",
       "        }#T_eee84_row5_col3{\n",
       "            background-color:  #f4721e;\n",
       "            color:  #000000;\n",
       "        }#T_eee84_row6_col3{\n",
       "            background-color:  #fff5eb;\n",
       "            color:  #000000;\n",
       "        }</style><table id=\"T_eee84_\" ><thead>    <tr>        <th class=\"blank level0\" ></th>        <th class=\"col_heading level0 col0\" >MAE</th>        <th class=\"col_heading level0 col1\" >MSE</th>        <th class=\"col_heading level0 col2\" >RMSE</th>        <th class=\"col_heading level0 col3\" >R2-score</th>    </tr></thead><tbody>\n",
       "                <tr>\n",
       "                        <th id=\"T_eee84_level0_row0\" class=\"row_heading level0 row0\" >XG Boost Regressor</th>\n",
       "                        <td id=\"T_eee84_row0_col0\" class=\"data row0 col0\" >27.725000</td>\n",
       "                        <td id=\"T_eee84_row0_col1\" class=\"data row0 col1\" >1101.817000</td>\n",
       "                        <td id=\"T_eee84_row0_col2\" class=\"data row0 col2\" >33.193630</td>\n",
       "                        <td id=\"T_eee84_row0_col3\" class=\"data row0 col3\" >0.271000</td>\n",
       "            </tr>\n",
       "            <tr>\n",
       "                        <th id=\"T_eee84_level0_row1\" class=\"row_heading level0 row1\" >Random Forest</th>\n",
       "                        <td id=\"T_eee84_row1_col0\" class=\"data row1 col0\" >27.966000</td>\n",
       "                        <td id=\"T_eee84_row1_col1\" class=\"data row1 col1\" >1131.399000</td>\n",
       "                        <td id=\"T_eee84_row1_col2\" class=\"data row1 col2\" >33.636278</td>\n",
       "                        <td id=\"T_eee84_row1_col3\" class=\"data row1 col3\" >0.252000</td>\n",
       "            </tr>\n",
       "            <tr>\n",
       "                        <th id=\"T_eee84_level0_row2\" class=\"row_heading level0 row2\" >Gradient Boost Regressor</th>\n",
       "                        <td id=\"T_eee84_row2_col0\" class=\"data row2 col0\" >28.198000</td>\n",
       "                        <td id=\"T_eee84_row2_col1\" class=\"data row2 col1\" >1145.010000</td>\n",
       "                        <td id=\"T_eee84_row2_col2\" class=\"data row2 col2\" >33.837996</td>\n",
       "                        <td id=\"T_eee84_row2_col3\" class=\"data row2 col3\" >0.243000</td>\n",
       "            </tr>\n",
       "            <tr>\n",
       "                        <th id=\"T_eee84_level0_row3\" class=\"row_heading level0 row3\" >Ada Boost Regressor</th>\n",
       "                        <td id=\"T_eee84_row3_col0\" class=\"data row3 col0\" >29.099000</td>\n",
       "                        <td id=\"T_eee84_row3_col1\" class=\"data row3 col1\" >1242.221000</td>\n",
       "                        <td id=\"T_eee84_row3_col2\" class=\"data row3 col2\" >35.245150</td>\n",
       "                        <td id=\"T_eee84_row3_col3\" class=\"data row3 col3\" >0.178000</td>\n",
       "            </tr>\n",
       "            <tr>\n",
       "                        <th id=\"T_eee84_level0_row4\" class=\"row_heading level0 row4\" >Linear Regression</th>\n",
       "                        <td id=\"T_eee84_row4_col0\" class=\"data row4 col0\" >30.789000</td>\n",
       "                        <td id=\"T_eee84_row4_col1\" class=\"data row4 col1\" >1445.269000</td>\n",
       "                        <td id=\"T_eee84_row4_col2\" class=\"data row4 col2\" >38.016692</td>\n",
       "                        <td id=\"T_eee84_row4_col3\" class=\"data row4 col3\" >0.044000</td>\n",
       "            </tr>\n",
       "            <tr>\n",
       "                        <th id=\"T_eee84_level0_row5\" class=\"row_heading level0 row5\" >Support Vector Machines</th>\n",
       "                        <td id=\"T_eee84_row5_col0\" class=\"data row5 col0\" >31.056000</td>\n",
       "                        <td id=\"T_eee84_row5_col1\" class=\"data row5 col1\" >1475.749000</td>\n",
       "                        <td id=\"T_eee84_row5_col2\" class=\"data row5 col2\" >38.415473</td>\n",
       "                        <td id=\"T_eee84_row5_col3\" class=\"data row5 col3\" >0.024000</td>\n",
       "            </tr>\n",
       "            <tr>\n",
       "                        <th id=\"T_eee84_level0_row6\" class=\"row_heading level0 row6\" >Decision Tree</th>\n",
       "                        <td id=\"T_eee84_row6_col0\" class=\"data row6 col0\" >36.208000</td>\n",
       "                        <td id=\"T_eee84_row6_col1\" class=\"data row6 col1\" >2018.233000</td>\n",
       "                        <td id=\"T_eee84_row6_col2\" class=\"data row6 col2\" >44.924745</td>\n",
       "                        <td id=\"T_eee84_row6_col3\" class=\"data row6 col3\" >-0.335000</td>\n",
       "            </tr>\n",
       "    </tbody></table>"
      ],
      "text/plain": [
       "<pandas.io.formats.style.Styler at 0x1e826ae5700>"
      ]
     },
     "execution_count": 37,
     "metadata": {},
     "output_type": "execute_result"
    }
   ],
   "source": [
    "results.sort_values('R2-score',ascending=False).style.background_gradient(cmap='Oranges',subset=['R2-score'])"
   ]
  },
  {
   "cell_type": "markdown",
   "id": "80694ffb",
   "metadata": {},
   "source": [
    "Here we can see the best model is **XG Boost Regressor**. Its **RMSE** score is **33.19** and **R2-score** is **0.27**."
   ]
  },
  {
   "cell_type": "markdown",
   "id": "4cf0684a",
   "metadata": {},
   "source": [
    "### HyperParameter Tunning on the Best ML model"
   ]
  },
  {
   "cell_type": "code",
   "execution_count": 38,
   "id": "2044cf59",
   "metadata": {
    "scrolled": false
   },
   "outputs": [
    {
     "data": {
      "text/plain": [
       "RandomizedSearchCV(cv=5,\n",
       "                   estimator=XGBRegressor(base_score=None, booster=None,\n",
       "                                          colsample_bylevel=None,\n",
       "                                          colsample_bynode=None,\n",
       "                                          colsample_bytree=None,\n",
       "                                          enable_categorical=False, gamma=None,\n",
       "                                          gpu_id=None, importance_type=None,\n",
       "                                          interaction_constraints=None,\n",
       "                                          learning_rate=None,\n",
       "                                          max_delta_step=None, max_depth=None,\n",
       "                                          min_child_weight=None, missing=nan,\n",
       "                                          monotone_constraints=None,\n",
       "                                          n_estimators=100, n_jobs=None,\n",
       "                                          num_parallel_tree=None,\n",
       "                                          predictor=None, random_state=None,\n",
       "                                          reg_alpha=None, reg_lambda=None,\n",
       "                                          scale_pos_weight=None, subsample=None,\n",
       "                                          tree_method=None,\n",
       "                                          validate_parameters=None,\n",
       "                                          verbosity=None),\n",
       "                   param_distributions={'gamma': [2.0, 3.0, 4.0],\n",
       "                                        'max_depth': [4, 6, 8],\n",
       "                                        'n_estimators': [100, 200, 400, 500],\n",
       "                                        'n_jobs': [-2, -1, 1]})"
      ]
     },
     "execution_count": 38,
     "metadata": {},
     "output_type": "execute_result"
    }
   ],
   "source": [
    "# Choosing XGB Regressor\n",
    "param = {'n_estimators' : [100, 200, 400, 500],\n",
    "              'gamma' : [2.0, 3.0, 4.0],\n",
    "              'max_depth' : [4, 6, 8],\n",
    "              'n_jobs' : [-2, -1, 1]\n",
    "             }\n",
    "regressor = XGBRegressor()\n",
    "GSCV = RandomizedSearchCV(regressor,param, cv=5)\n",
    "GSCV.fit(X_train,y_train)"
   ]
  },
  {
   "cell_type": "code",
   "execution_count": 39,
   "id": "d3f23a0a",
   "metadata": {},
   "outputs": [
    {
     "data": {
      "text/plain": [
       "{'n_jobs': -2, 'n_estimators': 100, 'max_depth': 4, 'gamma': 4.0}"
      ]
     },
     "execution_count": 39,
     "metadata": {},
     "output_type": "execute_result"
    }
   ],
   "source": [
    "#Check best parameters\n",
    "GSCV.best_params_"
   ]
  },
  {
   "cell_type": "code",
   "execution_count": 40,
   "id": "169b14f6",
   "metadata": {},
   "outputs": [
    {
     "data": {
      "text/plain": [
       "0.24305184592626308"
      ]
     },
     "execution_count": 40,
     "metadata": {},
     "output_type": "execute_result"
    }
   ],
   "source": [
    "# check best score\n",
    "GSCV.best_score_"
   ]
  },
  {
   "cell_type": "code",
   "execution_count": 41,
   "id": "fa526b30",
   "metadata": {},
   "outputs": [
    {
     "name": "stdout",
     "output_type": "stream",
     "text": [
      "R2 score for the Best Model is: 25.899085889395156\n",
      "MAE score for the Best Model is: 28.020701962475364\n",
      "MSE score for the Best Model is: 1120.173900833271\n",
      "RMSE score for the Best Model is: 33.468999101157344\n"
     ]
    }
   ],
   "source": [
    "# Final Model after Hyperparameter tunning\n",
    "\n",
    "Final_Model = XGBRegressor(gamma=2.0, max_depth=4, n_estimators=600, n_jobs=-2)\n",
    "\n",
    "Regressor = Final_Model.fit(X_train, y_train)\n",
    "fmod_pred = Final_Model.predict(X_test)\n",
    "fmod_r2 = r2_score(y_test, fmod_pred)*100\n",
    "fmod_MAE = mean_absolute_error(y_test,fmod_pred)\n",
    "fmod_MSE = mean_squared_error(y_test,fmod_pred)\n",
    "fmod_RMSE = np.sqrt(mean_squared_error(y_test,fmod_pred))\n",
    "                          \n",
    "print(\"R2 score for the Best Model is:\", fmod_r2)\n",
    "print(\"MAE score for the Best Model is:\", fmod_MAE)\n",
    "print(\"MSE score for the Best Model is:\", fmod_MSE)\n",
    "print(\"RMSE score for the Best Model is:\", fmod_RMSE)"
   ]
  },
  {
   "cell_type": "markdown",
   "id": "632e9980",
   "metadata": {},
   "source": [
    "Successfully implemented Hyper Parameter Tunning of best model and get its Scores. "
   ]
  },
  {
   "cell_type": "markdown",
   "id": "af0df53f",
   "metadata": {},
   "source": [
    "### Model Testing"
   ]
  },
  {
   "cell_type": "code",
   "execution_count": 42,
   "id": "6764a6c3",
   "metadata": {},
   "outputs": [
    {
     "data": {
      "text/html": [
       "<div>\n",
       "<style scoped>\n",
       "    .dataframe tbody tr th:only-of-type {\n",
       "        vertical-align: middle;\n",
       "    }\n",
       "\n",
       "    .dataframe tbody tr th {\n",
       "        vertical-align: top;\n",
       "    }\n",
       "\n",
       "    .dataframe thead th {\n",
       "        text-align: right;\n",
       "    }\n",
       "</style>\n",
       "<table border=\"1\" class=\"dataframe\">\n",
       "  <thead>\n",
       "    <tr style=\"text-align: right;\">\n",
       "      <th></th>\n",
       "      <th>hour</th>\n",
       "      <th>year</th>\n",
       "      <th>month</th>\n",
       "      <th>day</th>\n",
       "      <th>demand</th>\n",
       "    </tr>\n",
       "  </thead>\n",
       "  <tbody>\n",
       "    <tr>\n",
       "      <th>0</th>\n",
       "      <td>0</td>\n",
       "      <td>2021</td>\n",
       "      <td>3</td>\n",
       "      <td>1</td>\n",
       "      <td>88.117805</td>\n",
       "    </tr>\n",
       "    <tr>\n",
       "      <th>1</th>\n",
       "      <td>1</td>\n",
       "      <td>2021</td>\n",
       "      <td>3</td>\n",
       "      <td>1</td>\n",
       "      <td>71.224197</td>\n",
       "    </tr>\n",
       "    <tr>\n",
       "      <th>2</th>\n",
       "      <td>2</td>\n",
       "      <td>2021</td>\n",
       "      <td>3</td>\n",
       "      <td>1</td>\n",
       "      <td>74.458138</td>\n",
       "    </tr>\n",
       "    <tr>\n",
       "      <th>3</th>\n",
       "      <td>3</td>\n",
       "      <td>2021</td>\n",
       "      <td>3</td>\n",
       "      <td>1</td>\n",
       "      <td>63.026783</td>\n",
       "    </tr>\n",
       "    <tr>\n",
       "      <th>4</th>\n",
       "      <td>5</td>\n",
       "      <td>2021</td>\n",
       "      <td>3</td>\n",
       "      <td>1</td>\n",
       "      <td>38.298550</td>\n",
       "    </tr>\n",
       "  </tbody>\n",
       "</table>\n",
       "</div>"
      ],
      "text/plain": [
       "   hour  year  month  day     demand\n",
       "0     0  2021      3    1  88.117805\n",
       "1     1  2021      3    1  71.224197\n",
       "2     2  2021      3    1  74.458138\n",
       "3     3  2021      3    1  63.026783\n",
       "4     5  2021      3    1  38.298550"
      ]
     },
     "execution_count": 42,
     "metadata": {},
     "output_type": "execute_result"
    }
   ],
   "source": [
    "#predicted demand for test data\n",
    "test_df['demand']=Final_Model.predict(test_df)\n",
    "test_df.head()"
   ]
  },
  {
   "cell_type": "code",
   "execution_count": 43,
   "id": "a4912a14",
   "metadata": {},
   "outputs": [
    {
     "data": {
      "text/html": [
       "<div>\n",
       "<style scoped>\n",
       "    .dataframe tbody tr th:only-of-type {\n",
       "        vertical-align: middle;\n",
       "    }\n",
       "\n",
       "    .dataframe tbody tr th {\n",
       "        vertical-align: top;\n",
       "    }\n",
       "\n",
       "    .dataframe thead th {\n",
       "        text-align: right;\n",
       "    }\n",
       "</style>\n",
       "<table border=\"1\" class=\"dataframe\">\n",
       "  <thead>\n",
       "    <tr style=\"text-align: right;\">\n",
       "      <th></th>\n",
       "      <th>hour</th>\n",
       "      <th>year</th>\n",
       "      <th>month</th>\n",
       "      <th>day</th>\n",
       "      <th>demand</th>\n",
       "    </tr>\n",
       "  </thead>\n",
       "  <tbody>\n",
       "    <tr>\n",
       "      <th>0</th>\n",
       "      <td>0</td>\n",
       "      <td>2021</td>\n",
       "      <td>3</td>\n",
       "      <td>1</td>\n",
       "      <td>88.0</td>\n",
       "    </tr>\n",
       "    <tr>\n",
       "      <th>1</th>\n",
       "      <td>1</td>\n",
       "      <td>2021</td>\n",
       "      <td>3</td>\n",
       "      <td>1</td>\n",
       "      <td>71.0</td>\n",
       "    </tr>\n",
       "    <tr>\n",
       "      <th>2</th>\n",
       "      <td>2</td>\n",
       "      <td>2021</td>\n",
       "      <td>3</td>\n",
       "      <td>1</td>\n",
       "      <td>74.0</td>\n",
       "    </tr>\n",
       "    <tr>\n",
       "      <th>3</th>\n",
       "      <td>3</td>\n",
       "      <td>2021</td>\n",
       "      <td>3</td>\n",
       "      <td>1</td>\n",
       "      <td>63.0</td>\n",
       "    </tr>\n",
       "    <tr>\n",
       "      <th>4</th>\n",
       "      <td>5</td>\n",
       "      <td>2021</td>\n",
       "      <td>3</td>\n",
       "      <td>1</td>\n",
       "      <td>38.0</td>\n",
       "    </tr>\n",
       "  </tbody>\n",
       "</table>\n",
       "</div>"
      ],
      "text/plain": [
       "   hour  year  month  day  demand\n",
       "0     0  2021      3    1    88.0\n",
       "1     1  2021      3    1    71.0\n",
       "2     2  2021      3    1    74.0\n",
       "3     3  2021      3    1    63.0\n",
       "4     5  2021      3    1    38.0"
      ]
     },
     "execution_count": 43,
     "metadata": {},
     "output_type": "execute_result"
    }
   ],
   "source": [
    "#rounding off count to integer values\n",
    "test_df['demand']=round(test_df['demand'],0)\n",
    "test_df.head()"
   ]
  },
  {
   "cell_type": "code",
   "execution_count": 44,
   "id": "d6e4d054",
   "metadata": {},
   "outputs": [],
   "source": [
    "# convert year, month, day to datetime format\n",
    "test_df['date'] = pd.to_datetime(test_df[[\"year\", \"month\", \"day\"]])\n"
   ]
  },
  {
   "cell_type": "code",
   "execution_count": 45,
   "id": "9eee2e69",
   "metadata": {},
   "outputs": [
    {
     "data": {
      "text/html": [
       "<div>\n",
       "<style scoped>\n",
       "    .dataframe tbody tr th:only-of-type {\n",
       "        vertical-align: middle;\n",
       "    }\n",
       "\n",
       "    .dataframe tbody tr th {\n",
       "        vertical-align: top;\n",
       "    }\n",
       "\n",
       "    .dataframe thead th {\n",
       "        text-align: right;\n",
       "    }\n",
       "</style>\n",
       "<table border=\"1\" class=\"dataframe\">\n",
       "  <thead>\n",
       "    <tr style=\"text-align: right;\">\n",
       "      <th></th>\n",
       "      <th>hour</th>\n",
       "      <th>year</th>\n",
       "      <th>month</th>\n",
       "      <th>day</th>\n",
       "      <th>demand</th>\n",
       "      <th>date</th>\n",
       "    </tr>\n",
       "  </thead>\n",
       "  <tbody>\n",
       "    <tr>\n",
       "      <th>0</th>\n",
       "      <td>0</td>\n",
       "      <td>2021</td>\n",
       "      <td>3</td>\n",
       "      <td>1</td>\n",
       "      <td>88.0</td>\n",
       "      <td>2021-03-01</td>\n",
       "    </tr>\n",
       "    <tr>\n",
       "      <th>1</th>\n",
       "      <td>1</td>\n",
       "      <td>2021</td>\n",
       "      <td>3</td>\n",
       "      <td>1</td>\n",
       "      <td>71.0</td>\n",
       "      <td>2021-03-01</td>\n",
       "    </tr>\n",
       "    <tr>\n",
       "      <th>2</th>\n",
       "      <td>2</td>\n",
       "      <td>2021</td>\n",
       "      <td>3</td>\n",
       "      <td>1</td>\n",
       "      <td>74.0</td>\n",
       "      <td>2021-03-01</td>\n",
       "    </tr>\n",
       "    <tr>\n",
       "      <th>3</th>\n",
       "      <td>3</td>\n",
       "      <td>2021</td>\n",
       "      <td>3</td>\n",
       "      <td>1</td>\n",
       "      <td>63.0</td>\n",
       "      <td>2021-03-01</td>\n",
       "    </tr>\n",
       "    <tr>\n",
       "      <th>4</th>\n",
       "      <td>5</td>\n",
       "      <td>2021</td>\n",
       "      <td>3</td>\n",
       "      <td>1</td>\n",
       "      <td>38.0</td>\n",
       "      <td>2021-03-01</td>\n",
       "    </tr>\n",
       "  </tbody>\n",
       "</table>\n",
       "</div>"
      ],
      "text/plain": [
       "   hour  year  month  day  demand       date\n",
       "0     0  2021      3    1    88.0 2021-03-01\n",
       "1     1  2021      3    1    71.0 2021-03-01\n",
       "2     2  2021      3    1    74.0 2021-03-01\n",
       "3     3  2021      3    1    63.0 2021-03-01\n",
       "4     5  2021      3    1    38.0 2021-03-01"
      ]
     },
     "execution_count": 45,
     "metadata": {},
     "output_type": "execute_result"
    }
   ],
   "source": [
    "test_df.head()"
   ]
  },
  {
   "cell_type": "markdown",
   "id": "5718d70d",
   "metadata": {},
   "source": [
    "### Submission"
   ]
  },
  {
   "cell_type": "code",
   "execution_count": 46,
   "id": "beb45133",
   "metadata": {},
   "outputs": [
    {
     "data": {
      "text/html": [
       "<div>\n",
       "<style scoped>\n",
       "    .dataframe tbody tr th:only-of-type {\n",
       "        vertical-align: middle;\n",
       "    }\n",
       "\n",
       "    .dataframe tbody tr th {\n",
       "        vertical-align: top;\n",
       "    }\n",
       "\n",
       "    .dataframe thead th {\n",
       "        text-align: right;\n",
       "    }\n",
       "</style>\n",
       "<table border=\"1\" class=\"dataframe\">\n",
       "  <thead>\n",
       "    <tr style=\"text-align: right;\">\n",
       "      <th></th>\n",
       "      <th>date</th>\n",
       "      <th>hour</th>\n",
       "      <th>demand</th>\n",
       "    </tr>\n",
       "  </thead>\n",
       "  <tbody>\n",
       "    <tr>\n",
       "      <th>0</th>\n",
       "      <td>2021-03-01</td>\n",
       "      <td>0</td>\n",
       "      <td>88.0</td>\n",
       "    </tr>\n",
       "    <tr>\n",
       "      <th>1</th>\n",
       "      <td>2021-03-01</td>\n",
       "      <td>1</td>\n",
       "      <td>71.0</td>\n",
       "    </tr>\n",
       "    <tr>\n",
       "      <th>2</th>\n",
       "      <td>2021-03-01</td>\n",
       "      <td>2</td>\n",
       "      <td>74.0</td>\n",
       "    </tr>\n",
       "    <tr>\n",
       "      <th>3</th>\n",
       "      <td>2021-03-01</td>\n",
       "      <td>3</td>\n",
       "      <td>63.0</td>\n",
       "    </tr>\n",
       "    <tr>\n",
       "      <th>4</th>\n",
       "      <td>2021-03-01</td>\n",
       "      <td>5</td>\n",
       "      <td>38.0</td>\n",
       "    </tr>\n",
       "  </tbody>\n",
       "</table>\n",
       "</div>"
      ],
      "text/plain": [
       "        date  hour  demand\n",
       "0 2021-03-01     0    88.0\n",
       "1 2021-03-01     1    71.0\n",
       "2 2021-03-01     2    74.0\n",
       "3 2021-03-01     3    63.0\n",
       "4 2021-03-01     5    38.0"
      ]
     },
     "execution_count": 46,
     "metadata": {},
     "output_type": "execute_result"
    }
   ],
   "source": [
    "sub = pd.DataFrame({'date':test_df['date'],'hour': test_df['hour'], 'demand':test_df['demand']})\n",
    "sub.to_csv('submission.csv', index=False)\n",
    "sub.head()"
   ]
  },
  {
   "cell_type": "markdown",
   "id": "7590ac56",
   "metadata": {},
   "source": [
    "## Model Created Successfully !"
   ]
  }
 ],
 "metadata": {
  "kernelspec": {
   "display_name": "Python 3",
   "language": "python",
   "name": "python3"
  },
  "language_info": {
   "codemirror_mode": {
    "name": "ipython",
    "version": 3
   },
   "file_extension": ".py",
   "mimetype": "text/x-python",
   "name": "python",
   "nbconvert_exporter": "python",
   "pygments_lexer": "ipython3",
   "version": "3.8.8"
  }
 },
 "nbformat": 4,
 "nbformat_minor": 5
}
